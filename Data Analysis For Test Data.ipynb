{
 "cells": [
  {
   "cell_type": "code",
   "execution_count": null,
   "metadata": {},
   "outputs": [],
   "source": [
    "import pyodbc\n",
    "import numpy as np\n",
    "import pandas as pd\n",
    "import sys\n",
    "data = pd.ExcelFile(r'C:\\Users\\Phyu\\Downloads\\Testing data (Phyu) (1).xlsx')"
   ]
  },
  {
   "cell_type": "code",
   "execution_count": null,
   "metadata": {
    "scrolled": true
   },
   "outputs": [],
   "source": [
    "data.sheet_names"
   ]
  },
  {
   "cell_type": "code",
   "execution_count": null,
   "metadata": {},
   "outputs": [],
   "source": [
    "data.parse(sheetname='Part Master', skiprows=0).head(10) #get Part Master Sheet names"
   ]
  },
  {
   "cell_type": "code",
   "execution_count": null,
   "metadata": {},
   "outputs": [],
   "source": [
    "tabnames = data.sheet_names"
   ]
  },
  {
   "cell_type": "code",
   "execution_count": null,
   "metadata": {},
   "outputs": [],
   "source": [
    "print(tabnames[0])"
   ]
  },
  {
   "cell_type": "code",
   "execution_count": null,
   "metadata": {},
   "outputs": [],
   "source": [
    "i = 0\n",
    "#df = data.parse(sheetname=tabnames[i], skiprows=5,skipcolumns = 2) #first sheet, skip 5 rows, skip 2 columns \n",
    "df = data.parse(sheetname=tabnames[i]) #build dataframe of first sheet \n",
    "#df = df.dropna()"
   ]
  },
  {
   "cell_type": "code",
   "execution_count": null,
   "metadata": {},
   "outputs": [],
   "source": [
    "print(df)"
   ]
  },
  {
   "cell_type": "code",
   "execution_count": null,
   "metadata": {},
   "outputs": [],
   "source": [
    "df_str = df.applymap(str)\n",
    "print(df_str)"
   ]
  },
  {
   "cell_type": "code",
   "execution_count": null,
   "metadata": {},
   "outputs": [],
   "source": [
    "idx = df_str.apply(lambda x: x.str.contains('SKU_CODE'))  #get row and column value if the cell values is equal to SKU_CODE\n",
    "\n",
    "col_idx = []\n",
    "for i in range(df.shape[1]):\n",
    "    col_idx.append(df.iloc[:,i][idx.iloc[:,i]].index.tolist())\n",
    "\n",
    "\n",
    "out = []\n",
    "cnt = 0\n",
    "for i in col_idx:\n",
    "    for j in range(len(i)):\n",
    "        out.append((i[j], cnt))\n",
    "    cnt += 1\n",
    "out"
   ]
  },
  {
   "cell_type": "code",
   "execution_count": null,
   "metadata": {},
   "outputs": [],
   "source": [
    "idx = df_str.apply(lambda x: x.str.contains('SKU_Name'))  #get row and column value if the cell values is equal to SKU_Name\n",
    "\n",
    "col_idx = []\n",
    "for i in range(df.shape[1]):\n",
    "    col_idx.append(df.iloc[:,i][idx.iloc[:,i]].index.tolist())\n",
    "\n",
    "\n",
    "out = []\n",
    "cnt = 0\n",
    "for i in col_idx:\n",
    "    for j in range(len(i)):\n",
    "        out.append((i[j], cnt))\n",
    "    cnt += 1\n",
    "out"
   ]
  },
  {
   "cell_type": "code",
   "execution_count": null,
   "metadata": {},
   "outputs": [],
   "source": [
    "print(out[0][0])\n",
    "print(out[0][1])"
   ]
  },
  {
   "cell_type": "code",
   "execution_count": null,
   "metadata": {},
   "outputs": [],
   "source": []
  },
  {
   "cell_type": "code",
   "execution_count": null,
   "metadata": {},
   "outputs": [],
   "source": [
    "i=0\n",
    "df_strip = data.parse(sheetname=tabnames[i], skiprows= out[0][0]+1 ,skipcolumns = 3 ) #first sheet, skip 5 rows, skip 2 columns \n",
    "print(df_strip)"
   ]
  },
  {
   "cell_type": "code",
   "execution_count": null,
   "metadata": {},
   "outputs": [],
   "source": [
    "\n",
    "cols1 = list(df_strip.columns)\n",
    "print(cols1)\n",
    ""
   ]
  },
  {
   "cell_type": "code",
   "execution_count": null,
   "metadata": {},
   "outputs": [],
   "source": [
    "df_strip = df_strip.drop(df_strip.filter(regex='Unnamed').columns, axis=1)  #drop those columns with Unnamed\n",
    "print(df_strip)"
   ]
  },
  {
   "cell_type": "code",
   "execution_count": null,
   "metadata": {},
   "outputs": [],
   "source": [
    "df_strip.to_excel(\"output.xlsx\",\n",
    "             sheet_name='Part Master')"
   ]
  },
  {
   "cell_type": "code",
   "execution_count": 54,
   "metadata": {},
   "outputs": [
    {
     "output_type": "stream",
     "name": "stdout",
     "text": "SKU_CODE\n"
    }
   ],
   "source": [
    "import pyodbc\n",
    "import xlrd \n",
    "\n",
    "from openpyxl import load_workbook\n",
    "workbook = load_workbook(filename=\"output.xlsx\")\n",
    "workbook.sheetnames\n",
    "\n",
    "\n",
    "sheet = workbook.active\n",
    "sheet\n",
    "sheet.title\n",
    "print(sheet[\"B1\"].value)\n"
   ]
  },
  {
   "cell_type": "code",
   "execution_count": 48,
   "metadata": {},
   "outputs": [
    {
     "output_type": "stream",
     "name": "stdout",
     "text": "Unnamed: 0                          0\nSKU_CODE                      SKU1001\nSKU_Name                (1) Name-1001\nSKU_Description             Name-1001\nCategory                        Cat_A\nCategory_Description        Cat_A_des\nUnit_Cost                        15.5\nUOM                               NaN\nReorder Point                     177\nMax                               251\nMin Order Qty                     NaN\nABC                                 A\nFNS                                 F\nXYZ                                 X\nThreshold (Qty)                   111\nPre-defined                       NaN\nName: 0, dtype: object\n"
    }
   ],
   "source": [
    "data = xlrd.open_workbook(\"output.xlsx\")\n",
    "sheet = data.sheet_by_name(\"Part Master\")\n",
    "\n",
    "\n",
    "data = pd.ExcelFile(r'C:\\Users\\Phyu\\backend-setup\\output.xlsx')\n",
    "df = data.parse(sheetname=\"Part Master\") #build dataframe of first sheet \n",
    "\n",
    "\n",
    "print(df.iloc[0])"
   ]
  },
  {
   "cell_type": "code",
   "execution_count": null,
   "metadata": {},
   "outputs": [],
   "source": [
    "conn = pyodbc.connect('Driver={SQL Server};'\n",
    "                      'Server=DESKTOP-CCDK3QN;'\n",
    "                      'Database=Inventory;'\n",
    "                      'Trusted_Connection=yes;')\n",
    "\n",
    "cursor = conn.cursor()\n",
    "cursor.execute(\"Select * FROM Inventory.dbo.TestWriteFromPython\")\n",
    "      \n",
    "for row in cursor:\n",
    "    print(row)\n",
    "\n",
    "\n",
    "\n",
    "\n",
    "SKU1002 = 'SKU1002'\n",
    "SKU1002Name = 'SKU1002Name'\n",
    "SKU10002 = 'SKU10002'\n",
    "cursor.execute(\"Insert into TestWriteFromPython Values('\" + SKU1002 + \"','\" + SKU1002Name + \"','\" + SKU10002 + \"')\")\n",
    "conn.commit()\n",
    "cursor.execute(\"Select * FROM Inventory.dbo.TestWriteFromPython\")\n",
    "\n",
    "\n",
    "for row in cursor:\n",
    "    print(row)"
   ]
  },
  {
   "cell_type": "code",
   "execution_count": null,
   "metadata": {},
   "outputs": [],
   "source": [
    "cols1 = list(df_strip.columns)\n",
    "print(cols1)"
   ]
  },
  {
   "cell_type": "code",
   "execution_count": null,
   "metadata": {},
   "outputs": [],
   "source": [
    "print(df_strip.filter(regex='SKU_CODE').columns)  #drop those columns with Unnamed\n",
    ""
   ]
  },
  {
   "cell_type": "code",
   "execution_count": null,
   "metadata": {},
   "outputs": [],
   "source": []
  }
 ],
 "metadata": {
  "kernelspec": {
   "display_name": "Python 3.7.4 64-bit ('base': conda)",
   "language": "python",
   "name": "python37464bitbaseconda9e41c5f8d9c34dd09a74d7fbe11b3c96"
  },
  "language_info": {
   "codemirror_mode": {
    "name": "ipython",
    "version": 3
   },
   "file_extension": ".py",
   "mimetype": "text/x-python",
   "name": "python",
   "nbconvert_exporter": "python",
   "pygments_lexer": "ipython3",
   "version": "3.7.4-final"
  }
 },
 "nbformat": 4,
 "nbformat_minor": 2
}